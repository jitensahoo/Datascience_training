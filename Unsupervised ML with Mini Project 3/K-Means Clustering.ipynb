{
 "cells": [
  {
   "cell_type": "code",
   "execution_count": 1,
   "metadata": {},
   "outputs": [],
   "source": [
    "import pandas as pd\n",
    "import numpy as np\n",
    "import matplotlib.pyplot as plt\n",
    "from sklearn.preprocessing import StandardScaler,MinMaxScaler\n",
    "from sklearn.cluster import KMeans\n",
    "from sklearn.metrics import silhouette_score"
   ]
  },
  {
   "cell_type": "code",
   "execution_count": 2,
   "metadata": {},
   "outputs": [],
   "source": [
    "diabetes = pd.read_csv(r'C:\\My data\\Machine learning data set\\Diabetes\\Diabetes\\diabetes.csv')"
   ]
  },
  {
   "cell_type": "code",
   "execution_count": 3,
   "metadata": {},
   "outputs": [
    {
     "data": {
      "text/html": [
       "<div>\n",
       "<style scoped>\n",
       "    .dataframe tbody tr th:only-of-type {\n",
       "        vertical-align: middle;\n",
       "    }\n",
       "\n",
       "    .dataframe tbody tr th {\n",
       "        vertical-align: top;\n",
       "    }\n",
       "\n",
       "    .dataframe thead th {\n",
       "        text-align: right;\n",
       "    }\n",
       "</style>\n",
       "<table border=\"1\" class=\"dataframe\">\n",
       "  <thead>\n",
       "    <tr style=\"text-align: right;\">\n",
       "      <th></th>\n",
       "      <th>Pregnancies</th>\n",
       "      <th>Glucose</th>\n",
       "      <th>BloodPressure</th>\n",
       "      <th>SkinThickness</th>\n",
       "      <th>Insulin</th>\n",
       "      <th>BMI</th>\n",
       "      <th>DiabetesPedigreeFunction</th>\n",
       "      <th>Age</th>\n",
       "      <th>Outcome</th>\n",
       "    </tr>\n",
       "  </thead>\n",
       "  <tbody>\n",
       "    <tr>\n",
       "      <th>0</th>\n",
       "      <td>6</td>\n",
       "      <td>148</td>\n",
       "      <td>72</td>\n",
       "      <td>35</td>\n",
       "      <td>0</td>\n",
       "      <td>33.6</td>\n",
       "      <td>0.627</td>\n",
       "      <td>50</td>\n",
       "      <td>1</td>\n",
       "    </tr>\n",
       "    <tr>\n",
       "      <th>1</th>\n",
       "      <td>1</td>\n",
       "      <td>85</td>\n",
       "      <td>66</td>\n",
       "      <td>29</td>\n",
       "      <td>0</td>\n",
       "      <td>26.6</td>\n",
       "      <td>0.351</td>\n",
       "      <td>31</td>\n",
       "      <td>0</td>\n",
       "    </tr>\n",
       "    <tr>\n",
       "      <th>2</th>\n",
       "      <td>8</td>\n",
       "      <td>183</td>\n",
       "      <td>64</td>\n",
       "      <td>0</td>\n",
       "      <td>0</td>\n",
       "      <td>23.3</td>\n",
       "      <td>0.672</td>\n",
       "      <td>32</td>\n",
       "      <td>1</td>\n",
       "    </tr>\n",
       "    <tr>\n",
       "      <th>3</th>\n",
       "      <td>1</td>\n",
       "      <td>89</td>\n",
       "      <td>66</td>\n",
       "      <td>23</td>\n",
       "      <td>94</td>\n",
       "      <td>28.1</td>\n",
       "      <td>0.167</td>\n",
       "      <td>21</td>\n",
       "      <td>0</td>\n",
       "    </tr>\n",
       "    <tr>\n",
       "      <th>4</th>\n",
       "      <td>0</td>\n",
       "      <td>137</td>\n",
       "      <td>40</td>\n",
       "      <td>35</td>\n",
       "      <td>168</td>\n",
       "      <td>43.1</td>\n",
       "      <td>2.288</td>\n",
       "      <td>33</td>\n",
       "      <td>1</td>\n",
       "    </tr>\n",
       "  </tbody>\n",
       "</table>\n",
       "</div>"
      ],
      "text/plain": [
       "   Pregnancies  Glucose  BloodPressure  SkinThickness  Insulin   BMI  \\\n",
       "0            6      148             72             35        0  33.6   \n",
       "1            1       85             66             29        0  26.6   \n",
       "2            8      183             64              0        0  23.3   \n",
       "3            1       89             66             23       94  28.1   \n",
       "4            0      137             40             35      168  43.1   \n",
       "\n",
       "   DiabetesPedigreeFunction  Age  Outcome  \n",
       "0                     0.627   50        1  \n",
       "1                     0.351   31        0  \n",
       "2                     0.672   32        1  \n",
       "3                     0.167   21        0  \n",
       "4                     2.288   33        1  "
      ]
     },
     "execution_count": 3,
     "metadata": {},
     "output_type": "execute_result"
    }
   ],
   "source": [
    "diabetes.head()"
   ]
  },
  {
   "cell_type": "code",
   "execution_count": 4,
   "metadata": {},
   "outputs": [],
   "source": [
    "X= diabetes.drop('Outcome' , axis=1)"
   ]
  },
  {
   "cell_type": "code",
   "execution_count": 5,
   "metadata": {},
   "outputs": [],
   "source": [
    "min_max = MinMaxScaler(feature_range=(0,10))"
   ]
  },
  {
   "cell_type": "code",
   "execution_count": 6,
   "metadata": {},
   "outputs": [],
   "source": [
    "final_data = pd.DataFrame(min_max.fit_transform(X) , columns=X.columns)"
   ]
  },
  {
   "cell_type": "code",
   "execution_count": 7,
   "metadata": {},
   "outputs": [
    {
     "data": {
      "text/html": [
       "<div>\n",
       "<style scoped>\n",
       "    .dataframe tbody tr th:only-of-type {\n",
       "        vertical-align: middle;\n",
       "    }\n",
       "\n",
       "    .dataframe tbody tr th {\n",
       "        vertical-align: top;\n",
       "    }\n",
       "\n",
       "    .dataframe thead th {\n",
       "        text-align: right;\n",
       "    }\n",
       "</style>\n",
       "<table border=\"1\" class=\"dataframe\">\n",
       "  <thead>\n",
       "    <tr style=\"text-align: right;\">\n",
       "      <th></th>\n",
       "      <th>Pregnancies</th>\n",
       "      <th>Glucose</th>\n",
       "      <th>BloodPressure</th>\n",
       "      <th>SkinThickness</th>\n",
       "      <th>Insulin</th>\n",
       "      <th>BMI</th>\n",
       "      <th>DiabetesPedigreeFunction</th>\n",
       "      <th>Age</th>\n",
       "    </tr>\n",
       "  </thead>\n",
       "  <tbody>\n",
       "    <tr>\n",
       "      <th>0</th>\n",
       "      <td>3.529412</td>\n",
       "      <td>7.437186</td>\n",
       "      <td>5.901639</td>\n",
       "      <td>3.535354</td>\n",
       "      <td>0.000000</td>\n",
       "      <td>5.007452</td>\n",
       "      <td>2.344150</td>\n",
       "      <td>4.833333</td>\n",
       "    </tr>\n",
       "    <tr>\n",
       "      <th>1</th>\n",
       "      <td>0.588235</td>\n",
       "      <td>4.271357</td>\n",
       "      <td>5.409836</td>\n",
       "      <td>2.929293</td>\n",
       "      <td>0.000000</td>\n",
       "      <td>3.964232</td>\n",
       "      <td>1.165670</td>\n",
       "      <td>1.666667</td>\n",
       "    </tr>\n",
       "    <tr>\n",
       "      <th>2</th>\n",
       "      <td>4.705882</td>\n",
       "      <td>9.195980</td>\n",
       "      <td>5.245902</td>\n",
       "      <td>0.000000</td>\n",
       "      <td>0.000000</td>\n",
       "      <td>3.472429</td>\n",
       "      <td>2.536294</td>\n",
       "      <td>1.833333</td>\n",
       "    </tr>\n",
       "    <tr>\n",
       "      <th>3</th>\n",
       "      <td>0.588235</td>\n",
       "      <td>4.472362</td>\n",
       "      <td>5.409836</td>\n",
       "      <td>2.323232</td>\n",
       "      <td>1.111111</td>\n",
       "      <td>4.187779</td>\n",
       "      <td>0.380017</td>\n",
       "      <td>0.000000</td>\n",
       "    </tr>\n",
       "    <tr>\n",
       "      <th>4</th>\n",
       "      <td>0.000000</td>\n",
       "      <td>6.884422</td>\n",
       "      <td>3.278689</td>\n",
       "      <td>3.535354</td>\n",
       "      <td>1.985816</td>\n",
       "      <td>6.423249</td>\n",
       "      <td>9.436379</td>\n",
       "      <td>2.000000</td>\n",
       "    </tr>\n",
       "    <tr>\n",
       "      <th>...</th>\n",
       "      <td>...</td>\n",
       "      <td>...</td>\n",
       "      <td>...</td>\n",
       "      <td>...</td>\n",
       "      <td>...</td>\n",
       "      <td>...</td>\n",
       "      <td>...</td>\n",
       "      <td>...</td>\n",
       "    </tr>\n",
       "    <tr>\n",
       "      <th>763</th>\n",
       "      <td>5.882353</td>\n",
       "      <td>5.075377</td>\n",
       "      <td>6.229508</td>\n",
       "      <td>4.848485</td>\n",
       "      <td>2.127660</td>\n",
       "      <td>4.903130</td>\n",
       "      <td>0.397096</td>\n",
       "      <td>7.000000</td>\n",
       "    </tr>\n",
       "    <tr>\n",
       "      <th>764</th>\n",
       "      <td>1.176471</td>\n",
       "      <td>6.130653</td>\n",
       "      <td>5.737705</td>\n",
       "      <td>2.727273</td>\n",
       "      <td>0.000000</td>\n",
       "      <td>5.484352</td>\n",
       "      <td>1.118702</td>\n",
       "      <td>1.000000</td>\n",
       "    </tr>\n",
       "    <tr>\n",
       "      <th>765</th>\n",
       "      <td>2.941176</td>\n",
       "      <td>6.080402</td>\n",
       "      <td>5.901639</td>\n",
       "      <td>2.323232</td>\n",
       "      <td>1.323877</td>\n",
       "      <td>3.904620</td>\n",
       "      <td>0.713066</td>\n",
       "      <td>1.500000</td>\n",
       "    </tr>\n",
       "    <tr>\n",
       "      <th>766</th>\n",
       "      <td>0.588235</td>\n",
       "      <td>6.331658</td>\n",
       "      <td>4.918033</td>\n",
       "      <td>0.000000</td>\n",
       "      <td>0.000000</td>\n",
       "      <td>4.485842</td>\n",
       "      <td>1.157131</td>\n",
       "      <td>4.333333</td>\n",
       "    </tr>\n",
       "    <tr>\n",
       "      <th>767</th>\n",
       "      <td>0.588235</td>\n",
       "      <td>4.673367</td>\n",
       "      <td>5.737705</td>\n",
       "      <td>3.131313</td>\n",
       "      <td>0.000000</td>\n",
       "      <td>4.530551</td>\n",
       "      <td>1.011956</td>\n",
       "      <td>0.333333</td>\n",
       "    </tr>\n",
       "  </tbody>\n",
       "</table>\n",
       "<p>768 rows × 8 columns</p>\n",
       "</div>"
      ],
      "text/plain": [
       "     Pregnancies   Glucose  BloodPressure  SkinThickness   Insulin       BMI  \\\n",
       "0       3.529412  7.437186       5.901639       3.535354  0.000000  5.007452   \n",
       "1       0.588235  4.271357       5.409836       2.929293  0.000000  3.964232   \n",
       "2       4.705882  9.195980       5.245902       0.000000  0.000000  3.472429   \n",
       "3       0.588235  4.472362       5.409836       2.323232  1.111111  4.187779   \n",
       "4       0.000000  6.884422       3.278689       3.535354  1.985816  6.423249   \n",
       "..           ...       ...            ...            ...       ...       ...   \n",
       "763     5.882353  5.075377       6.229508       4.848485  2.127660  4.903130   \n",
       "764     1.176471  6.130653       5.737705       2.727273  0.000000  5.484352   \n",
       "765     2.941176  6.080402       5.901639       2.323232  1.323877  3.904620   \n",
       "766     0.588235  6.331658       4.918033       0.000000  0.000000  4.485842   \n",
       "767     0.588235  4.673367       5.737705       3.131313  0.000000  4.530551   \n",
       "\n",
       "     DiabetesPedigreeFunction       Age  \n",
       "0                    2.344150  4.833333  \n",
       "1                    1.165670  1.666667  \n",
       "2                    2.536294  1.833333  \n",
       "3                    0.380017  0.000000  \n",
       "4                    9.436379  2.000000  \n",
       "..                        ...       ...  \n",
       "763                  0.397096  7.000000  \n",
       "764                  1.118702  1.000000  \n",
       "765                  0.713066  1.500000  \n",
       "766                  1.157131  4.333333  \n",
       "767                  1.011956  0.333333  \n",
       "\n",
       "[768 rows x 8 columns]"
      ]
     },
     "execution_count": 7,
     "metadata": {},
     "output_type": "execute_result"
    }
   ],
   "source": [
    "final_data"
   ]
  },
  {
   "cell_type": "code",
   "execution_count": 8,
   "metadata": {},
   "outputs": [],
   "source": [
    "k_mean = KMeans(n_clusters=5)"
   ]
  },
  {
   "cell_type": "code",
   "execution_count": 9,
   "metadata": {},
   "outputs": [
    {
     "name": "stderr",
     "output_type": "stream",
     "text": [
      "C:\\Users\\jiten\\anaconda3\\lib\\site-packages\\sklearn\\cluster\\_kmeans.py:870: FutureWarning: The default value of `n_init` will change from 10 to 'auto' in 1.4. Set the value of `n_init` explicitly to suppress the warning\n",
      "  warnings.warn(\n",
      "C:\\Users\\jiten\\anaconda3\\lib\\site-packages\\sklearn\\cluster\\_kmeans.py:1382: UserWarning: KMeans is known to have a memory leak on Windows with MKL, when there are less chunks than available threads. You can avoid it by setting the environment variable OMP_NUM_THREADS=3.\n",
      "  warnings.warn(\n"
     ]
    },
    {
     "data": {
      "text/html": [
       "<style>#sk-container-id-1 {color: black;background-color: white;}#sk-container-id-1 pre{padding: 0;}#sk-container-id-1 div.sk-toggleable {background-color: white;}#sk-container-id-1 label.sk-toggleable__label {cursor: pointer;display: block;width: 100%;margin-bottom: 0;padding: 0.3em;box-sizing: border-box;text-align: center;}#sk-container-id-1 label.sk-toggleable__label-arrow:before {content: \"▸\";float: left;margin-right: 0.25em;color: #696969;}#sk-container-id-1 label.sk-toggleable__label-arrow:hover:before {color: black;}#sk-container-id-1 div.sk-estimator:hover label.sk-toggleable__label-arrow:before {color: black;}#sk-container-id-1 div.sk-toggleable__content {max-height: 0;max-width: 0;overflow: hidden;text-align: left;background-color: #f0f8ff;}#sk-container-id-1 div.sk-toggleable__content pre {margin: 0.2em;color: black;border-radius: 0.25em;background-color: #f0f8ff;}#sk-container-id-1 input.sk-toggleable__control:checked~div.sk-toggleable__content {max-height: 200px;max-width: 100%;overflow: auto;}#sk-container-id-1 input.sk-toggleable__control:checked~label.sk-toggleable__label-arrow:before {content: \"▾\";}#sk-container-id-1 div.sk-estimator input.sk-toggleable__control:checked~label.sk-toggleable__label {background-color: #d4ebff;}#sk-container-id-1 div.sk-label input.sk-toggleable__control:checked~label.sk-toggleable__label {background-color: #d4ebff;}#sk-container-id-1 input.sk-hidden--visually {border: 0;clip: rect(1px 1px 1px 1px);clip: rect(1px, 1px, 1px, 1px);height: 1px;margin: -1px;overflow: hidden;padding: 0;position: absolute;width: 1px;}#sk-container-id-1 div.sk-estimator {font-family: monospace;background-color: #f0f8ff;border: 1px dotted black;border-radius: 0.25em;box-sizing: border-box;margin-bottom: 0.5em;}#sk-container-id-1 div.sk-estimator:hover {background-color: #d4ebff;}#sk-container-id-1 div.sk-parallel-item::after {content: \"\";width: 100%;border-bottom: 1px solid gray;flex-grow: 1;}#sk-container-id-1 div.sk-label:hover label.sk-toggleable__label {background-color: #d4ebff;}#sk-container-id-1 div.sk-serial::before {content: \"\";position: absolute;border-left: 1px solid gray;box-sizing: border-box;top: 0;bottom: 0;left: 50%;z-index: 0;}#sk-container-id-1 div.sk-serial {display: flex;flex-direction: column;align-items: center;background-color: white;padding-right: 0.2em;padding-left: 0.2em;position: relative;}#sk-container-id-1 div.sk-item {position: relative;z-index: 1;}#sk-container-id-1 div.sk-parallel {display: flex;align-items: stretch;justify-content: center;background-color: white;position: relative;}#sk-container-id-1 div.sk-item::before, #sk-container-id-1 div.sk-parallel-item::before {content: \"\";position: absolute;border-left: 1px solid gray;box-sizing: border-box;top: 0;bottom: 0;left: 50%;z-index: -1;}#sk-container-id-1 div.sk-parallel-item {display: flex;flex-direction: column;z-index: 1;position: relative;background-color: white;}#sk-container-id-1 div.sk-parallel-item:first-child::after {align-self: flex-end;width: 50%;}#sk-container-id-1 div.sk-parallel-item:last-child::after {align-self: flex-start;width: 50%;}#sk-container-id-1 div.sk-parallel-item:only-child::after {width: 0;}#sk-container-id-1 div.sk-dashed-wrapped {border: 1px dashed gray;margin: 0 0.4em 0.5em 0.4em;box-sizing: border-box;padding-bottom: 0.4em;background-color: white;}#sk-container-id-1 div.sk-label label {font-family: monospace;font-weight: bold;display: inline-block;line-height: 1.2em;}#sk-container-id-1 div.sk-label-container {text-align: center;}#sk-container-id-1 div.sk-container {/* jupyter's `normalize.less` sets `[hidden] { display: none; }` but bootstrap.min.css set `[hidden] { display: none !important; }` so we also need the `!important` here to be able to override the default hidden behavior on the sphinx rendered scikit-learn.org. See: https://github.com/scikit-learn/scikit-learn/issues/21755 */display: inline-block !important;position: relative;}#sk-container-id-1 div.sk-text-repr-fallback {display: none;}</style><div id=\"sk-container-id-1\" class=\"sk-top-container\"><div class=\"sk-text-repr-fallback\"><pre>KMeans(n_clusters=5)</pre><b>In a Jupyter environment, please rerun this cell to show the HTML representation or trust the notebook. <br />On GitHub, the HTML representation is unable to render, please try loading this page with nbviewer.org.</b></div><div class=\"sk-container\" hidden><div class=\"sk-item\"><div class=\"sk-estimator sk-toggleable\"><input class=\"sk-toggleable__control sk-hidden--visually\" id=\"sk-estimator-id-1\" type=\"checkbox\" checked><label for=\"sk-estimator-id-1\" class=\"sk-toggleable__label sk-toggleable__label-arrow\">KMeans</label><div class=\"sk-toggleable__content\"><pre>KMeans(n_clusters=5)</pre></div></div></div></div></div>"
      ],
      "text/plain": [
       "KMeans(n_clusters=5)"
      ]
     },
     "execution_count": 9,
     "metadata": {},
     "output_type": "execute_result"
    }
   ],
   "source": [
    "k_mean.fit(final_data)"
   ]
  },
  {
   "cell_type": "code",
   "execution_count": 10,
   "metadata": {},
   "outputs": [
    {
     "data": {
      "text/plain": [
       "array([[1.11977321, 7.15444693, 5.98410034, 3.49154193, 2.28289043,\n",
       "        5.50966908, 2.23928164, 1.30220884],\n",
       "       [3.63998231, 6.60029471, 6.35769752, 0.07974482, 0.02897314,\n",
       "        4.64170859, 1.35408975, 4.07393484],\n",
       "       [1.93277311, 5.86216798, 0.05620609, 0.12121212, 0.00844309,\n",
       "        3.77943368, 1.32426497, 1.50952381],\n",
       "       [4.88372093, 6.56772233, 6.27843436, 3.26364419, 1.372991  ,\n",
       "        5.08566411, 1.95046306, 4.06976744],\n",
       "       [1.21118611, 5.07471785, 5.57188928, 1.89402219, 0.53834825,\n",
       "        4.39823117, 1.44867075, 0.75737705]])"
      ]
     },
     "execution_count": 10,
     "metadata": {},
     "output_type": "execute_result"
    }
   ],
   "source": [
    "k_mean.cluster_centers_"
   ]
  },
  {
   "cell_type": "code",
   "execution_count": 11,
   "metadata": {
    "scrolled": true
   },
   "outputs": [
    {
     "data": {
      "text/plain": [
       "8717.55416472834"
      ]
     },
     "execution_count": 11,
     "metadata": {},
     "output_type": "execute_result"
    }
   ],
   "source": [
    "k_mean.inertia_"
   ]
  },
  {
   "cell_type": "code",
   "execution_count": 12,
   "metadata": {},
   "outputs": [
    {
     "data": {
      "text/plain": [
       "(768, 8)"
      ]
     },
     "execution_count": 12,
     "metadata": {},
     "output_type": "execute_result"
    }
   ],
   "source": [
    "final_data.shape"
   ]
  },
  {
   "cell_type": "code",
   "execution_count": 13,
   "metadata": {},
   "outputs": [
    {
     "data": {
      "text/plain": [
       "768"
      ]
     },
     "execution_count": 13,
     "metadata": {},
     "output_type": "execute_result"
    }
   ],
   "source": [
    "len(k_mean.labels_)"
   ]
  },
  {
   "cell_type": "code",
   "execution_count": 14,
   "metadata": {},
   "outputs": [
    {
     "data": {
      "text/plain": [
       "array([3, 4, 1, 4, 0, 1, 4, 2, 0, 1, 4, 1, 1, 0, 3, 2, 0, 1, 4, 0, 0, 1,\n",
       "       1, 3, 3, 3, 1, 4, 3, 1, 3, 0, 4, 4, 3, 0, 1, 3, 4, 3, 0, 1, 1, 3,\n",
       "       1, 0, 4, 4, 3, 2, 4, 4, 4, 3, 3, 4, 3, 0, 1, 0, 2, 1, 4, 0, 1, 4,\n",
       "       4, 1, 4, 0, 4, 0, 1, 0, 4, 4, 1, 4, 2, 4, 4, 2, 3, 4, 1, 4, 3, 4,\n",
       "       3, 4, 4, 4, 3, 1, 4, 3, 4, 4, 4, 0, 0, 4, 4, 4, 4, 0, 4, 0, 4, 4,\n",
       "       0, 3, 4, 4, 3, 1, 1, 4, 4, 4, 0, 4, 4, 1, 4, 0, 0, 4, 0, 1, 0, 1,\n",
       "       0, 3, 4, 4, 4, 4, 4, 0, 1, 3, 4, 1, 0, 4, 3, 0, 1, 4, 0, 1, 3, 0,\n",
       "       1, 3, 4, 4, 4, 3, 0, 3, 0, 4, 4, 3, 4, 1, 4, 4, 1, 0, 2, 4, 4, 3,\n",
       "       1, 0, 1, 1, 1, 4, 4, 4, 1, 3, 3, 0, 3, 0, 4, 3, 1, 2, 1, 0, 4, 4,\n",
       "       0, 0, 4, 4, 4, 4, 3, 4, 3, 1, 4, 3, 4, 0, 3, 0, 3, 3, 0, 3, 4, 1,\n",
       "       0, 1, 2, 3, 4, 4, 4, 0, 0, 4, 4, 3, 4, 4, 4, 1, 3, 0, 3, 4, 4, 4,\n",
       "       4, 0, 0, 3, 1, 0, 3, 4, 1, 4, 4, 4, 3, 4, 4, 4, 0, 3, 0, 2, 4, 1,\n",
       "       1, 3, 2, 0, 4, 2, 3, 4, 1, 4, 1, 0, 4, 4, 1, 4, 4, 3, 3, 1, 1, 3,\n",
       "       0, 0, 4, 0, 4, 4, 0, 0, 1, 0, 0, 0, 3, 1, 2, 0, 4, 1, 1, 0, 3, 4,\n",
       "       0, 0, 3, 0, 0, 4, 3, 4, 4, 1, 0, 1, 4, 4, 4, 3, 4, 0, 0, 1, 0, 3,\n",
       "       3, 4, 2, 1, 4, 0, 2, 1, 3, 1, 4, 4, 4, 1, 1, 3, 4, 2, 4, 4, 4, 1,\n",
       "       4, 4, 4, 1, 0, 3, 3, 0, 0, 1, 3, 1, 0, 4, 1, 4, 4, 0, 0, 4, 4, 4,\n",
       "       0, 3, 4, 4, 1, 0, 4, 4, 4, 4, 4, 4, 4, 3, 3, 4, 0, 1, 0, 4, 1, 0,\n",
       "       4, 4, 4, 0, 4, 1, 0, 3, 1, 0, 1, 4, 1, 0, 4, 0, 0, 4, 0, 0, 4, 0,\n",
       "       4, 4, 0, 4, 0, 4, 3, 0, 2, 0, 0, 4, 2, 4, 4, 4, 4, 2, 3, 1, 4, 1,\n",
       "       0, 4, 4, 1, 4, 0, 4, 4, 4, 4, 4, 4, 0, 2, 4, 3, 1, 4, 3, 3, 3, 4,\n",
       "       3, 4, 1, 4, 4, 4, 2, 0, 0, 4, 4, 1, 4, 1, 0, 4, 3, 3, 0, 4, 4, 4,\n",
       "       2, 0, 0, 0, 4, 1, 4, 4, 4, 3, 2, 1, 4, 4, 3, 3, 4, 4, 4, 3, 4, 1,\n",
       "       0, 0, 4, 1, 3, 4, 1, 4, 4, 0, 3, 1, 1, 1, 4, 0, 2, 1, 4, 4, 4, 4,\n",
       "       0, 4, 4, 4, 0, 2, 4, 2, 1, 1, 0, 0, 3, 0, 3, 4, 4, 3, 3, 4, 0, 0,\n",
       "       4, 4, 1, 4, 4, 3, 4, 1, 3, 1, 1, 0, 4, 4, 4, 4, 4, 3, 0, 0, 4, 4,\n",
       "       4, 4, 0, 0, 4, 4, 1, 3, 0, 4, 3, 1, 3, 4, 1, 4, 3, 2, 3, 0, 1, 4,\n",
       "       0, 0, 4, 2, 1, 4, 4, 2, 4, 3, 2, 4, 0, 4, 0, 4, 4, 0, 3, 4, 3, 4,\n",
       "       1, 4, 3, 2, 0, 4, 1, 4, 4, 4, 4, 4, 1, 4, 1, 4, 4, 4, 1, 1, 1, 4,\n",
       "       3, 4, 4, 4, 1, 2, 4, 0, 0, 0, 3, 4, 4, 4, 0, 4, 4, 0, 4, 0, 1, 4,\n",
       "       1, 0, 3, 3, 3, 0, 1, 3, 3, 3, 3, 4, 3, 0, 1, 1, 1, 4, 4, 4, 4, 0,\n",
       "       4, 4, 1, 0, 4, 4, 0, 0, 1, 1, 0, 3, 4, 3, 0, 2, 4, 4, 0, 3, 0, 2,\n",
       "       4, 4, 2, 0, 1, 4, 0, 3, 3, 0, 4, 0, 0, 3, 0, 3, 4, 0, 0, 3, 1, 3,\n",
       "       0, 4, 4, 4, 4, 1, 0, 4, 1, 4, 4, 3, 4, 1, 3, 4, 4, 1, 3, 3, 0, 0,\n",
       "       0, 1, 4, 0, 4, 0, 3, 0, 3, 1, 4, 1, 4, 3, 1, 3, 4, 4, 1, 4])"
      ]
     },
     "execution_count": 14,
     "metadata": {},
     "output_type": "execute_result"
    }
   ],
   "source": [
    "k_mean.predict(final_data)"
   ]
  },
  {
   "cell_type": "code",
   "execution_count": 15,
   "metadata": {},
   "outputs": [
    {
     "data": {
      "text/plain": [
       "0.19810280343451359"
      ]
     },
     "execution_count": 15,
     "metadata": {},
     "output_type": "execute_result"
    }
   ],
   "source": [
    "silhouette_score(final_data,k_mean.labels_)"
   ]
  },
  {
   "cell_type": "code",
   "execution_count": 16,
   "metadata": {
    "scrolled": false
   },
   "outputs": [
    {
     "name": "stderr",
     "output_type": "stream",
     "text": [
      "C:\\Users\\jiten\\anaconda3\\lib\\site-packages\\sklearn\\cluster\\_kmeans.py:870: FutureWarning: The default value of `n_init` will change from 10 to 'auto' in 1.4. Set the value of `n_init` explicitly to suppress the warning\n",
      "  warnings.warn(\n",
      "C:\\Users\\jiten\\anaconda3\\lib\\site-packages\\sklearn\\cluster\\_kmeans.py:1382: UserWarning: KMeans is known to have a memory leak on Windows with MKL, when there are less chunks than available threads. You can avoid it by setting the environment variable OMP_NUM_THREADS=3.\n",
      "  warnings.warn(\n",
      "C:\\Users\\jiten\\anaconda3\\lib\\site-packages\\sklearn\\cluster\\_kmeans.py:870: FutureWarning: The default value of `n_init` will change from 10 to 'auto' in 1.4. Set the value of `n_init` explicitly to suppress the warning\n",
      "  warnings.warn(\n",
      "C:\\Users\\jiten\\anaconda3\\lib\\site-packages\\sklearn\\cluster\\_kmeans.py:1382: UserWarning: KMeans is known to have a memory leak on Windows with MKL, when there are less chunks than available threads. You can avoid it by setting the environment variable OMP_NUM_THREADS=3.\n",
      "  warnings.warn(\n",
      "C:\\Users\\jiten\\anaconda3\\lib\\site-packages\\sklearn\\cluster\\_kmeans.py:870: FutureWarning: The default value of `n_init` will change from 10 to 'auto' in 1.4. Set the value of `n_init` explicitly to suppress the warning\n",
      "  warnings.warn(\n",
      "C:\\Users\\jiten\\anaconda3\\lib\\site-packages\\sklearn\\cluster\\_kmeans.py:1382: UserWarning: KMeans is known to have a memory leak on Windows with MKL, when there are less chunks than available threads. You can avoid it by setting the environment variable OMP_NUM_THREADS=3.\n",
      "  warnings.warn(\n",
      "C:\\Users\\jiten\\anaconda3\\lib\\site-packages\\sklearn\\cluster\\_kmeans.py:870: FutureWarning: The default value of `n_init` will change from 10 to 'auto' in 1.4. Set the value of `n_init` explicitly to suppress the warning\n",
      "  warnings.warn(\n",
      "C:\\Users\\jiten\\anaconda3\\lib\\site-packages\\sklearn\\cluster\\_kmeans.py:1382: UserWarning: KMeans is known to have a memory leak on Windows with MKL, when there are less chunks than available threads. You can avoid it by setting the environment variable OMP_NUM_THREADS=3.\n",
      "  warnings.warn(\n",
      "C:\\Users\\jiten\\anaconda3\\lib\\site-packages\\sklearn\\cluster\\_kmeans.py:870: FutureWarning: The default value of `n_init` will change from 10 to 'auto' in 1.4. Set the value of `n_init` explicitly to suppress the warning\n",
      "  warnings.warn(\n",
      "C:\\Users\\jiten\\anaconda3\\lib\\site-packages\\sklearn\\cluster\\_kmeans.py:1382: UserWarning: KMeans is known to have a memory leak on Windows with MKL, when there are less chunks than available threads. You can avoid it by setting the environment variable OMP_NUM_THREADS=3.\n",
      "  warnings.warn(\n",
      "C:\\Users\\jiten\\anaconda3\\lib\\site-packages\\sklearn\\cluster\\_kmeans.py:870: FutureWarning: The default value of `n_init` will change from 10 to 'auto' in 1.4. Set the value of `n_init` explicitly to suppress the warning\n",
      "  warnings.warn(\n",
      "C:\\Users\\jiten\\anaconda3\\lib\\site-packages\\sklearn\\cluster\\_kmeans.py:1382: UserWarning: KMeans is known to have a memory leak on Windows with MKL, when there are less chunks than available threads. You can avoid it by setting the environment variable OMP_NUM_THREADS=3.\n",
      "  warnings.warn(\n",
      "C:\\Users\\jiten\\anaconda3\\lib\\site-packages\\sklearn\\cluster\\_kmeans.py:870: FutureWarning: The default value of `n_init` will change from 10 to 'auto' in 1.4. Set the value of `n_init` explicitly to suppress the warning\n",
      "  warnings.warn(\n",
      "C:\\Users\\jiten\\anaconda3\\lib\\site-packages\\sklearn\\cluster\\_kmeans.py:1382: UserWarning: KMeans is known to have a memory leak on Windows with MKL, when there are less chunks than available threads. You can avoid it by setting the environment variable OMP_NUM_THREADS=3.\n",
      "  warnings.warn(\n",
      "C:\\Users\\jiten\\anaconda3\\lib\\site-packages\\sklearn\\cluster\\_kmeans.py:870: FutureWarning: The default value of `n_init` will change from 10 to 'auto' in 1.4. Set the value of `n_init` explicitly to suppress the warning\n",
      "  warnings.warn(\n",
      "C:\\Users\\jiten\\anaconda3\\lib\\site-packages\\sklearn\\cluster\\_kmeans.py:1382: UserWarning: KMeans is known to have a memory leak on Windows with MKL, when there are less chunks than available threads. You can avoid it by setting the environment variable OMP_NUM_THREADS=3.\n",
      "  warnings.warn(\n",
      "C:\\Users\\jiten\\anaconda3\\lib\\site-packages\\sklearn\\cluster\\_kmeans.py:870: FutureWarning: The default value of `n_init` will change from 10 to 'auto' in 1.4. Set the value of `n_init` explicitly to suppress the warning\n",
      "  warnings.warn(\n",
      "C:\\Users\\jiten\\anaconda3\\lib\\site-packages\\sklearn\\cluster\\_kmeans.py:1382: UserWarning: KMeans is known to have a memory leak on Windows with MKL, when there are less chunks than available threads. You can avoid it by setting the environment variable OMP_NUM_THREADS=3.\n",
      "  warnings.warn(\n",
      "C:\\Users\\jiten\\anaconda3\\lib\\site-packages\\sklearn\\cluster\\_kmeans.py:870: FutureWarning: The default value of `n_init` will change from 10 to 'auto' in 1.4. Set the value of `n_init` explicitly to suppress the warning\n",
      "  warnings.warn(\n",
      "C:\\Users\\jiten\\anaconda3\\lib\\site-packages\\sklearn\\cluster\\_kmeans.py:1382: UserWarning: KMeans is known to have a memory leak on Windows with MKL, when there are less chunks than available threads. You can avoid it by setting the environment variable OMP_NUM_THREADS=3.\n",
      "  warnings.warn(\n",
      "C:\\Users\\jiten\\anaconda3\\lib\\site-packages\\sklearn\\cluster\\_kmeans.py:870: FutureWarning: The default value of `n_init` will change from 10 to 'auto' in 1.4. Set the value of `n_init` explicitly to suppress the warning\n",
      "  warnings.warn(\n",
      "C:\\Users\\jiten\\anaconda3\\lib\\site-packages\\sklearn\\cluster\\_kmeans.py:1382: UserWarning: KMeans is known to have a memory leak on Windows with MKL, when there are less chunks than available threads. You can avoid it by setting the environment variable OMP_NUM_THREADS=3.\n",
      "  warnings.warn(\n",
      "C:\\Users\\jiten\\anaconda3\\lib\\site-packages\\sklearn\\cluster\\_kmeans.py:870: FutureWarning: The default value of `n_init` will change from 10 to 'auto' in 1.4. Set the value of `n_init` explicitly to suppress the warning\n",
      "  warnings.warn(\n",
      "C:\\Users\\jiten\\anaconda3\\lib\\site-packages\\sklearn\\cluster\\_kmeans.py:1382: UserWarning: KMeans is known to have a memory leak on Windows with MKL, when there are less chunks than available threads. You can avoid it by setting the environment variable OMP_NUM_THREADS=3.\n",
      "  warnings.warn(\n",
      "C:\\Users\\jiten\\anaconda3\\lib\\site-packages\\sklearn\\cluster\\_kmeans.py:870: FutureWarning: The default value of `n_init` will change from 10 to 'auto' in 1.4. Set the value of `n_init` explicitly to suppress the warning\n",
      "  warnings.warn(\n",
      "C:\\Users\\jiten\\anaconda3\\lib\\site-packages\\sklearn\\cluster\\_kmeans.py:1382: UserWarning: KMeans is known to have a memory leak on Windows with MKL, when there are less chunks than available threads. You can avoid it by setting the environment variable OMP_NUM_THREADS=3.\n",
      "  warnings.warn(\n",
      "C:\\Users\\jiten\\anaconda3\\lib\\site-packages\\sklearn\\cluster\\_kmeans.py:870: FutureWarning: The default value of `n_init` will change from 10 to 'auto' in 1.4. Set the value of `n_init` explicitly to suppress the warning\n",
      "  warnings.warn(\n",
      "C:\\Users\\jiten\\anaconda3\\lib\\site-packages\\sklearn\\cluster\\_kmeans.py:1382: UserWarning: KMeans is known to have a memory leak on Windows with MKL, when there are less chunks than available threads. You can avoid it by setting the environment variable OMP_NUM_THREADS=3.\n",
      "  warnings.warn(\n",
      "C:\\Users\\jiten\\anaconda3\\lib\\site-packages\\sklearn\\cluster\\_kmeans.py:870: FutureWarning: The default value of `n_init` will change from 10 to 'auto' in 1.4. Set the value of `n_init` explicitly to suppress the warning\n",
      "  warnings.warn(\n",
      "C:\\Users\\jiten\\anaconda3\\lib\\site-packages\\sklearn\\cluster\\_kmeans.py:1382: UserWarning: KMeans is known to have a memory leak on Windows with MKL, when there are less chunks than available threads. You can avoid it by setting the environment variable OMP_NUM_THREADS=3.\n",
      "  warnings.warn(\n",
      "C:\\Users\\jiten\\anaconda3\\lib\\site-packages\\sklearn\\cluster\\_kmeans.py:870: FutureWarning: The default value of `n_init` will change from 10 to 'auto' in 1.4. Set the value of `n_init` explicitly to suppress the warning\n",
      "  warnings.warn(\n",
      "C:\\Users\\jiten\\anaconda3\\lib\\site-packages\\sklearn\\cluster\\_kmeans.py:1382: UserWarning: KMeans is known to have a memory leak on Windows with MKL, when there are less chunks than available threads. You can avoid it by setting the environment variable OMP_NUM_THREADS=3.\n",
      "  warnings.warn(\n"
     ]
    },
    {
     "name": "stderr",
     "output_type": "stream",
     "text": [
      "C:\\Users\\jiten\\anaconda3\\lib\\site-packages\\sklearn\\cluster\\_kmeans.py:870: FutureWarning: The default value of `n_init` will change from 10 to 'auto' in 1.4. Set the value of `n_init` explicitly to suppress the warning\n",
      "  warnings.warn(\n",
      "C:\\Users\\jiten\\anaconda3\\lib\\site-packages\\sklearn\\cluster\\_kmeans.py:1382: UserWarning: KMeans is known to have a memory leak on Windows with MKL, when there are less chunks than available threads. You can avoid it by setting the environment variable OMP_NUM_THREADS=3.\n",
      "  warnings.warn(\n",
      "C:\\Users\\jiten\\anaconda3\\lib\\site-packages\\sklearn\\cluster\\_kmeans.py:870: FutureWarning: The default value of `n_init` will change from 10 to 'auto' in 1.4. Set the value of `n_init` explicitly to suppress the warning\n",
      "  warnings.warn(\n",
      "C:\\Users\\jiten\\anaconda3\\lib\\site-packages\\sklearn\\cluster\\_kmeans.py:1382: UserWarning: KMeans is known to have a memory leak on Windows with MKL, when there are less chunks than available threads. You can avoid it by setting the environment variable OMP_NUM_THREADS=3.\n",
      "  warnings.warn(\n"
     ]
    }
   ],
   "source": [
    "sil_score = []\n",
    "wcss_score = []\n",
    "for k in range(2,20):\n",
    "    model =  KMeans(n_clusters=k).fit(final_data)\n",
    "    sil_score.append(silhouette_score(final_data, model.labels_))\n",
    "    wcss_score.append(model.inertia_)"
   ]
  },
  {
   "cell_type": "code",
   "execution_count": 17,
   "metadata": {},
   "outputs": [
    {
     "data": {
      "text/plain": [
       "[<matplotlib.lines.Line2D at 0x1e98ffa8e50>]"
      ]
     },
     "execution_count": 17,
     "metadata": {},
     "output_type": "execute_result"
    },
    {
     "data": {
      "image/png": "[encoded data removed]",
      "text/plain": [
       "<Figure size 720x576 with 1 Axes>"
      ]
     },
     "metadata": {
      "needs_background": "light"
     },
     "output_type": "display_data"
    }
   ],
   "source": [
    "plt.figure(figsize=(10,8))\n",
    "plt.plot(range(2,20,1) , sil_score)"
   ]
  },
  {
   "cell_type": "code",
   "execution_count": 18,
   "metadata": {},
   "outputs": [
    {
     "data": {
      "text/plain": [
       "[<matplotlib.lines.Line2D at 0x1e99003fc10>]"
      ]
     },
     "execution_count": 18,
     "metadata": {},
     "output_type": "execute_result"
    },
    {
     "data": {
      "image/png": "[encoded data removed]",
      "text/plain": [
       "<Figure size 720x576 with 1 Axes>"
      ]
     },
     "metadata": {
      "needs_background": "light"
     },
     "output_type": "display_data"
    }
   ],
   "source": [
    "plt.figure(figsize=(10,8))\n",
    "plt.plot(range(2,20,1) , wcss_score)"
   ]
  },
  {
   "cell_type": "code",
   "execution_count": 35,
   "metadata": {},
   "outputs": [
    {
     "name": "stderr",
     "output_type": "stream",
     "text": [
      "C:\\Users\\jiten\\anaconda3\\lib\\site-packages\\sklearn\\cluster\\_kmeans.py:870: FutureWarning: The default value of `n_init` will change from 10 to 'auto' in 1.4. Set the value of `n_init` explicitly to suppress the warning\n",
      "  warnings.warn(\n",
      "C:\\Users\\jiten\\anaconda3\\lib\\site-packages\\sklearn\\cluster\\_kmeans.py:1382: UserWarning: KMeans is known to have a memory leak on Windows with MKL, when there are less chunks than available threads. You can avoid it by setting the environment variable OMP_NUM_THREADS=3.\n",
      "  warnings.warn(\n"
     ]
    },
    {
     "data": {
      "text/plain": [
       "array([0, 1, 0, 1, 2, 1, 1, 1, 2, 0, 1, 0, 0, 2, 0, 1, 2, 1, 1, 2, 2, 0,\n",
       "       0, 0, 0, 0, 0, 1, 0, 0, 0, 2, 1, 1, 0, 2, 0, 0, 2, 0, 2, 0, 0, 0,\n",
       "       0, 2, 1, 1, 1, 1, 1, 1, 1, 0, 2, 1, 0, 2, 2, 2, 1, 0, 1, 2, 0, 1,\n",
       "       2, 0, 1, 2, 1, 2, 0, 2, 1, 1, 0, 1, 1, 1, 1, 1, 0, 1, 0, 2, 0, 1,\n",
       "       0, 1, 1, 2, 0, 0, 2, 0, 1, 1, 1, 2, 2, 1, 1, 1, 1, 2, 1, 2, 1, 1,\n",
       "       2, 0, 1, 1, 0, 0, 0, 1, 1, 1, 2, 1, 2, 0, 1, 2, 2, 2, 2, 0, 2, 0,\n",
       "       2, 0, 1, 1, 1, 1, 1, 2, 0, 0, 1, 0, 2, 1, 0, 2, 0, 1, 2, 1, 0, 2,\n",
       "       0, 0, 1, 1, 1, 0, 2, 0, 2, 1, 1, 0, 1, 1, 1, 1, 0, 2, 1, 2, 1, 0,\n",
       "       0, 2, 0, 0, 1, 1, 1, 1, 0, 0, 0, 2, 0, 2, 1, 0, 0, 0, 0, 2, 1, 1,\n",
       "       2, 2, 1, 1, 1, 1, 0, 1, 0, 0, 1, 0, 1, 2, 0, 2, 0, 0, 2, 2, 1, 0,\n",
       "       2, 0, 1, 0, 1, 1, 1, 2, 2, 2, 1, 0, 1, 1, 1, 1, 0, 2, 0, 1, 1, 1,\n",
       "       1, 2, 2, 0, 0, 2, 0, 1, 0, 1, 1, 1, 0, 1, 1, 1, 2, 0, 2, 1, 1, 0,\n",
       "       1, 0, 1, 2, 1, 1, 0, 1, 1, 2, 0, 2, 1, 1, 0, 1, 1, 0, 0, 0, 0, 0,\n",
       "       2, 2, 1, 2, 1, 2, 2, 2, 0, 2, 2, 2, 0, 0, 1, 2, 1, 1, 1, 2, 0, 1,\n",
       "       2, 2, 0, 2, 2, 1, 0, 1, 1, 1, 2, 0, 1, 1, 1, 0, 1, 2, 2, 0, 2, 0,\n",
       "       0, 1, 1, 0, 1, 2, 1, 0, 0, 0, 1, 1, 1, 0, 0, 0, 1, 1, 1, 1, 1, 1,\n",
       "       1, 1, 1, 0, 2, 0, 0, 2, 2, 0, 0, 0, 2, 1, 1, 1, 1, 2, 2, 1, 1, 2,\n",
       "       2, 0, 1, 1, 1, 2, 2, 1, 1, 1, 1, 1, 1, 0, 0, 1, 2, 1, 2, 1, 1, 2,\n",
       "       2, 2, 1, 2, 1, 0, 2, 0, 0, 2, 0, 1, 0, 2, 2, 2, 2, 1, 2, 2, 1, 2,\n",
       "       1, 1, 2, 1, 2, 1, 0, 2, 1, 2, 2, 2, 1, 1, 1, 1, 1, 1, 0, 1, 1, 0,\n",
       "       2, 1, 1, 0, 1, 2, 1, 2, 2, 1, 1, 1, 2, 0, 1, 0, 0, 1, 0, 0, 0, 1,\n",
       "       0, 1, 0, 1, 1, 2, 1, 2, 2, 2, 1, 0, 1, 0, 2, 0, 0, 0, 2, 2, 1, 2,\n",
       "       1, 2, 2, 2, 1, 0, 1, 1, 1, 0, 1, 0, 1, 1, 0, 0, 1, 1, 1, 0, 2, 0,\n",
       "       2, 2, 1, 0, 0, 1, 0, 1, 1, 2, 0, 0, 0, 0, 1, 2, 1, 0, 1, 1, 1, 1,\n",
       "       2, 1, 1, 1, 2, 1, 1, 1, 1, 0, 2, 2, 0, 2, 0, 1, 1, 0, 0, 2, 2, 2,\n",
       "       1, 1, 0, 1, 1, 0, 2, 0, 0, 0, 0, 2, 1, 1, 1, 1, 1, 0, 2, 2, 1, 1,\n",
       "       1, 1, 2, 2, 1, 1, 0, 2, 2, 1, 0, 0, 0, 1, 0, 1, 0, 1, 0, 2, 0, 1,\n",
       "       2, 2, 1, 1, 1, 1, 1, 1, 1, 0, 1, 1, 2, 1, 2, 1, 1, 2, 2, 1, 0, 1,\n",
       "       0, 1, 0, 1, 2, 1, 0, 2, 1, 2, 1, 1, 0, 1, 0, 2, 1, 1, 0, 0, 0, 1,\n",
       "       0, 1, 1, 1, 0, 1, 2, 2, 2, 2, 0, 1, 1, 1, 2, 1, 1, 2, 1, 2, 0, 2,\n",
       "       0, 2, 0, 0, 0, 2, 0, 0, 0, 0, 0, 1, 0, 2, 0, 0, 0, 1, 1, 1, 1, 2,\n",
       "       2, 1, 0, 2, 1, 1, 2, 2, 0, 0, 2, 0, 1, 0, 2, 1, 2, 1, 2, 0, 0, 1,\n",
       "       1, 1, 1, 2, 0, 2, 2, 0, 0, 2, 1, 2, 2, 0, 2, 0, 1, 2, 2, 0, 1, 2,\n",
       "       2, 2, 1, 1, 1, 1, 2, 1, 0, 1, 2, 0, 1, 1, 0, 1, 1, 0, 0, 0, 2, 2,\n",
       "       2, 0, 1, 2, 1, 2, 0, 2, 0, 0, 1, 0, 1, 0, 0, 0, 1, 1, 1, 1])"
      ]
     },
     "execution_count": 35,
     "metadata": {},
     "output_type": "execute_result"
    }
   ],
   "source": [
    "k_mean = KMeans(n_clusters=3)\n",
    "k_mean.fit_predict(final_data)"
   ]
  },
  {
   "cell_type": "code",
   "execution_count": 36,
   "metadata": {},
   "outputs": [
    {
     "data": {
      "text/plain": [
       "0.18389021151304466"
      ]
     },
     "execution_count": 36,
     "metadata": {},
     "output_type": "execute_result"
    }
   ],
   "source": [
    "silhouette_score(final_data ,k_mean.labels_)"
   ]
  },
  {
   "cell_type": "code",
   "execution_count": 21,
   "metadata": {},
   "outputs": [
    {
     "data": {
      "text/plain": [
       "(768,)"
      ]
     },
     "execution_count": 21,
     "metadata": {},
     "output_type": "execute_result"
    }
   ],
   "source": [
    "final_data.shape\n",
    "k_mean.labels_.shape"
   ]
  },
  {
   "cell_type": "code",
   "execution_count": 37,
   "metadata": {},
   "outputs": [],
   "source": [
    "final_data['label'] = k_mean.labels_"
   ]
  },
  {
   "cell_type": "code",
   "execution_count": 38,
   "metadata": {
    "scrolled": true
   },
   "outputs": [
    {
     "data": {
      "text/html": [
       "<div>\n",
       "<style scoped>\n",
       "    .dataframe tbody tr th:only-of-type {\n",
       "        vertical-align: middle;\n",
       "    }\n",
       "\n",
       "    .dataframe tbody tr th {\n",
       "        vertical-align: top;\n",
       "    }\n",
       "\n",
       "    .dataframe thead th {\n",
       "        text-align: right;\n",
       "    }\n",
       "</style>\n",
       "<table border=\"1\" class=\"dataframe\">\n",
       "  <thead>\n",
       "    <tr style=\"text-align: right;\">\n",
       "      <th></th>\n",
       "      <th>Pregnancies</th>\n",
       "      <th>Glucose</th>\n",
       "      <th>BloodPressure</th>\n",
       "      <th>SkinThickness</th>\n",
       "      <th>Insulin</th>\n",
       "      <th>BMI</th>\n",
       "      <th>DiabetesPedigreeFunction</th>\n",
       "      <th>Age</th>\n",
       "      <th>label</th>\n",
       "    </tr>\n",
       "  </thead>\n",
       "  <tbody>\n",
       "    <tr>\n",
       "      <th>0</th>\n",
       "      <td>3.529412</td>\n",
       "      <td>7.437186</td>\n",
       "      <td>5.901639</td>\n",
       "      <td>3.535354</td>\n",
       "      <td>0.00000</td>\n",
       "      <td>5.007452</td>\n",
       "      <td>2.344150</td>\n",
       "      <td>4.833333</td>\n",
       "      <td>0</td>\n",
       "    </tr>\n",
       "    <tr>\n",
       "      <th>2</th>\n",
       "      <td>4.705882</td>\n",
       "      <td>9.195980</td>\n",
       "      <td>5.245902</td>\n",
       "      <td>0.000000</td>\n",
       "      <td>0.00000</td>\n",
       "      <td>3.472429</td>\n",
       "      <td>2.536294</td>\n",
       "      <td>1.833333</td>\n",
       "      <td>0</td>\n",
       "    </tr>\n",
       "    <tr>\n",
       "      <th>9</th>\n",
       "      <td>4.705882</td>\n",
       "      <td>6.281407</td>\n",
       "      <td>7.868852</td>\n",
       "      <td>0.000000</td>\n",
       "      <td>0.00000</td>\n",
       "      <td>0.000000</td>\n",
       "      <td>0.657558</td>\n",
       "      <td>5.500000</td>\n",
       "      <td>0</td>\n",
       "    </tr>\n",
       "    <tr>\n",
       "      <th>11</th>\n",
       "      <td>5.882353</td>\n",
       "      <td>8.442211</td>\n",
       "      <td>6.065574</td>\n",
       "      <td>0.000000</td>\n",
       "      <td>0.00000</td>\n",
       "      <td>5.663189</td>\n",
       "      <td>1.959863</td>\n",
       "      <td>2.166667</td>\n",
       "      <td>0</td>\n",
       "    </tr>\n",
       "    <tr>\n",
       "      <th>12</th>\n",
       "      <td>5.882353</td>\n",
       "      <td>6.984925</td>\n",
       "      <td>6.557377</td>\n",
       "      <td>0.000000</td>\n",
       "      <td>0.00000</td>\n",
       "      <td>4.038748</td>\n",
       "      <td>5.819812</td>\n",
       "      <td>6.000000</td>\n",
       "      <td>0</td>\n",
       "    </tr>\n",
       "    <tr>\n",
       "      <th>...</th>\n",
       "      <td>...</td>\n",
       "      <td>...</td>\n",
       "      <td>...</td>\n",
       "      <td>...</td>\n",
       "      <td>...</td>\n",
       "      <td>...</td>\n",
       "      <td>...</td>\n",
       "      <td>...</td>\n",
       "      <td>...</td>\n",
       "    </tr>\n",
       "    <tr>\n",
       "      <th>757</th>\n",
       "      <td>0.000000</td>\n",
       "      <td>6.180905</td>\n",
       "      <td>5.901639</td>\n",
       "      <td>0.000000</td>\n",
       "      <td>0.00000</td>\n",
       "      <td>5.409836</td>\n",
       "      <td>0.768574</td>\n",
       "      <td>5.166667</td>\n",
       "      <td>0</td>\n",
       "    </tr>\n",
       "    <tr>\n",
       "      <th>759</th>\n",
       "      <td>3.529412</td>\n",
       "      <td>9.547739</td>\n",
       "      <td>7.540984</td>\n",
       "      <td>0.000000</td>\n",
       "      <td>0.00000</td>\n",
       "      <td>5.290611</td>\n",
       "      <td>0.853971</td>\n",
       "      <td>7.500000</td>\n",
       "      <td>0</td>\n",
       "    </tr>\n",
       "    <tr>\n",
       "      <th>761</th>\n",
       "      <td>5.294118</td>\n",
       "      <td>8.542714</td>\n",
       "      <td>6.065574</td>\n",
       "      <td>3.131313</td>\n",
       "      <td>0.00000</td>\n",
       "      <td>6.557377</td>\n",
       "      <td>1.387703</td>\n",
       "      <td>3.666667</td>\n",
       "      <td>0</td>\n",
       "    </tr>\n",
       "    <tr>\n",
       "      <th>762</th>\n",
       "      <td>5.294118</td>\n",
       "      <td>4.472362</td>\n",
       "      <td>5.081967</td>\n",
       "      <td>0.000000</td>\n",
       "      <td>0.00000</td>\n",
       "      <td>3.353204</td>\n",
       "      <td>0.273271</td>\n",
       "      <td>2.000000</td>\n",
       "      <td>0</td>\n",
       "    </tr>\n",
       "    <tr>\n",
       "      <th>763</th>\n",
       "      <td>5.882353</td>\n",
       "      <td>5.075377</td>\n",
       "      <td>6.229508</td>\n",
       "      <td>4.848485</td>\n",
       "      <td>2.12766</td>\n",
       "      <td>4.903130</td>\n",
       "      <td>0.397096</td>\n",
       "      <td>7.000000</td>\n",
       "      <td>0</td>\n",
       "    </tr>\n",
       "  </tbody>\n",
       "</table>\n",
       "<p>236 rows × 9 columns</p>\n",
       "</div>"
      ],
      "text/plain": [
       "     Pregnancies   Glucose  BloodPressure  SkinThickness  Insulin       BMI  \\\n",
       "0       3.529412  7.437186       5.901639       3.535354  0.00000  5.007452   \n",
       "2       4.705882  9.195980       5.245902       0.000000  0.00000  3.472429   \n",
       "9       4.705882  6.281407       7.868852       0.000000  0.00000  0.000000   \n",
       "11      5.882353  8.442211       6.065574       0.000000  0.00000  5.663189   \n",
       "12      5.882353  6.984925       6.557377       0.000000  0.00000  4.038748   \n",
       "..           ...       ...            ...            ...      ...       ...   \n",
       "757     0.000000  6.180905       5.901639       0.000000  0.00000  5.409836   \n",
       "759     3.529412  9.547739       7.540984       0.000000  0.00000  5.290611   \n",
       "761     5.294118  8.542714       6.065574       3.131313  0.00000  6.557377   \n",
       "762     5.294118  4.472362       5.081967       0.000000  0.00000  3.353204   \n",
       "763     5.882353  5.075377       6.229508       4.848485  2.12766  4.903130   \n",
       "\n",
       "     DiabetesPedigreeFunction       Age  label  \n",
       "0                    2.344150  4.833333      0  \n",
       "2                    2.536294  1.833333      0  \n",
       "9                    0.657558  5.500000      0  \n",
       "11                   1.959863  2.166667      0  \n",
       "12                   5.819812  6.000000      0  \n",
       "..                        ...       ...    ...  \n",
       "757                  0.768574  5.166667      0  \n",
       "759                  0.853971  7.500000      0  \n",
       "761                  1.387703  3.666667      0  \n",
       "762                  0.273271  2.000000      0  \n",
       "763                  0.397096  7.000000      0  \n",
       "\n",
       "[236 rows x 9 columns]"
      ]
     },
     "execution_count": 38,
     "metadata": {},
     "output_type": "execute_result"
    }
   ],
   "source": [
    "final_data[final_data.label == 0]"
   ]
  },
  {
   "cell_type": "code",
   "execution_count": 32,
   "metadata": {
    "scrolled": false
   },
   "outputs": [
    {
     "data": {
      "text/plain": [
       "<bound method DataFrame.nunique of      Pregnancies   Glucose  BloodPressure  SkinThickness   Insulin       BMI  \\\n",
       "0       3.529412  7.437186       5.901639       3.535354  0.000000  5.007452   \n",
       "1       0.588235  4.271357       5.409836       2.929293  0.000000  3.964232   \n",
       "2       4.705882  9.195980       5.245902       0.000000  0.000000  3.472429   \n",
       "3       0.588235  4.472362       5.409836       2.323232  1.111111  4.187779   \n",
       "4       0.000000  6.884422       3.278689       3.535354  1.985816  6.423249   \n",
       "..           ...       ...            ...            ...       ...       ...   \n",
       "763     5.882353  5.075377       6.229508       4.848485  2.127660  4.903130   \n",
       "764     1.176471  6.130653       5.737705       2.727273  0.000000  5.484352   \n",
       "765     2.941176  6.080402       5.901639       2.323232  1.323877  3.904620   \n",
       "766     0.588235  6.331658       4.918033       0.000000  0.000000  4.485842   \n",
       "767     0.588235  4.673367       5.737705       3.131313  0.000000  4.530551   \n",
       "\n",
       "     DiabetesPedigreeFunction       Age  label  \n",
       "0                    2.344150  4.833333      1  \n",
       "1                    1.165670  1.666667      0  \n",
       "2                    2.536294  1.833333      1  \n",
       "3                    0.380017  0.000000      0  \n",
       "4                    9.436379  2.000000      0  \n",
       "..                        ...       ...    ...  \n",
       "763                  0.397096  7.000000      1  \n",
       "764                  1.118702  1.000000      0  \n",
       "765                  0.713066  1.500000      0  \n",
       "766                  1.157131  4.333333      0  \n",
       "767                  1.011956  0.333333      0  \n",
       "\n",
       "[768 rows x 9 columns]>"
      ]
     },
     "execution_count": 32,
     "metadata": {},
     "output_type": "execute_result"
    }
   ],
   "source": [
    "final_data.nunique"
   ]
  },
  {
   "cell_type": "code",
   "execution_count": 50,
   "metadata": {},
   "outputs": [
    {
     "data": {
      "text/plain": [
       "<matplotlib.collections.PathCollection at 0x1e992321af0>"
      ]
     },
     "execution_count": 50,
     "metadata": {},
     "output_type": "execute_result"
    },
    {
     "data": {
      "image/png": "[encoded data removed]",
      "text/plain": [
       "<Figure size 432x288 with 1 Axes>"
      ]
     },
     "metadata": {
      "needs_background": "light"
     },
     "output_type": "display_data"
    }
   ],
   "source": [
    "plt.scatter(x='Pregnancies' ,y='Glucose', data=df_0)"
   ]
  },
  {
   "cell_type": "code",
   "execution_count": 54,
   "metadata": {},
   "outputs": [
    {
     "data": {
      "text/plain": [
       "<matplotlib.collections.PathCollection at 0x1e9934c6130>"
      ]
     },
     "execution_count": 54,
     "metadata": {},
     "output_type": "execute_result"
    },
    {
     "data": {
      "image/png": "[encoded data removed]",
      "text/plain": [
       "<Figure size 432x288 with 1 Axes>"
      ]
     },
     "metadata": {
      "needs_background": "light"
     },
     "output_type": "display_data"
    }
   ],
   "source": [
    "df_0 = final_data[final_data.label == 0]\n",
    "df_1 = final_data[final_data.label == 1]\n",
    "df_2 = final_data[final_data.label == 2]\n",
    "plt.scatter(x='Insulin' ,y='Glucose', data=df_0 ,color = 'red')\n",
    "plt.scatter(x='Insulin' ,y='Glucose', data=df_1 ,color = 'blue')\n",
    "plt.scatter(x='Insulin' ,y='Glucose', data=df_2 ,color = 'green')\n",
    "#plt.scatter(filtered_label8[:,0] , filtered_label8[:,1] , color = 'black')\n",
    "plt.show()"
   ]
  },
  {
   "cell_type": "code",
   "execution_count": null,
   "metadata": {},
   "outputs": [],
   "source": []
  }
 ],
 "metadata": {
  "kernelspec": {
   "display_name": "Python 3",
   "language": "python",
   "name": "python3"
  },
  "language_info": {
   "codemirror_mode": {
    "name": "ipython",
    "version": 3
   },
   "file_extension": ".py",
   "mimetype": "text/x-python",
   "name": "python",
   "nbconvert_exporter": "python",
   "pygments_lexer": "ipython3",
   "version": "3.8.3"
  }
 },
 "nbformat": 4,
 "nbformat_minor": 4
}
